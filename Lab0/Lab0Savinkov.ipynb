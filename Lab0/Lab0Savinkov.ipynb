{
 "cells": [
  {
   "cell_type": "markdown",
   "id": "5f776a5b-b161-4109-9e14-427396d8972e",
   "metadata": {},
   "source": [
    "# Лабораторна робота №0\n",
    "## \n",
    "Основи роботи в середовищі Jupyter Notebook"
   ]
  },
  {
   "cell_type": "code",
   "execution_count": 10,
   "id": "96b27307-4c27-4f71-b799-719e24196cde",
   "metadata": {},
   "outputs": [
    {
     "name": "stdout",
     "output_type": "stream",
     "text": [
      "10\n"
     ]
    }
   ],
   "source": [
    "N = ord(\"Y\") % 10 + 1\n",
    "print(N) #10"
   ]
  },
  {
   "cell_type": "markdown",
   "id": "9286ea83-0ad7-457a-9f84-98c01d3b51bc",
   "metadata": {},
   "source": [
    "# Норвегія\n",
    "\n",
    "## Огляд\n",
    "Норвегія - це північноєвропейська держава на Скандинавському півострові. Окрім материкової частини, Норвегії належить арктичний архіпелаг Шпіцберген та острів Ян-Маєн на межі Гренландського й Норвезького морів, острів Буве в Південній Атлантиці.\n",
    "\n",
    "![Норвегія на мапі](https://upload.wikimedia.org/wikipedia/commons/thumb/0/01/Europe-Norway.svg/405px-Europe-Norway.svg.png)\n",
    "\n",
    "## Основні показники\n",
    "| Показник          | Значення                     |\n",
    "|-------------------|:----------------------------:|\n",
    "|-Площа             | 385,207 кв. км               |\n",
    "| Населення         | близько 5 488 984 (2023 рік) |\n",
    "| Державний устрій  | Конституційна монархія       |\n",
    "| Столиця           | Осло                         |\n",
    "| Валюта            | Норвезька крона              |\n",
    "| Офіційні мови     | норвезька, саамська          |\n",
    "\n",
    "## Видатні люди\n",
    "Норвегія відома своїми видатними персоналіями, включаючи:\n",
    "- [Edvard Munch](https://uk.wikipedia.org/wiki/%D0%95%D0%B4%D0%B2%D0%B0%D1%80%D0%B4_%D0%9C%D1%83%D0%BD%D0%BA) - художник, автор картини \"Крик\".\n",
    "- [Roald Amundsen](https://uk.wikipedia.org/wiki/%D0%A0%D0%BE%D0%B0%D0%BB%D1%8C%D0%B4_%D0%90%D0%BC%D1%83%D0%BD%D0%B4%D1%81%D0%B5%D0%BD) - відомий полярний дослідник.\n",
    "\n",
    "## Пам'ятки культури та природи\n",
    "Норвегія багата на пам'ятки культури та природи. Деякі з них включають:\n",
    "* **Природа**\n",
    "    + *Бергенські бригген*: старовинна набережна в Бергені.\n",
    "    + *Ф'юрландська фьорд*: один з найкрасивіших фьордів у світі.\n",
    "* **Культура**\n",
    "    + *Фрідтйоф Нансен*: пам'ятник видатному норвезькому полювальнику на барсуків.\n",
    "\n",
    "## Зображення\n",
    "\n",
    "![Норвегія](https://encrypted-tbn0.gstatic.com/licensed-image?q=tbn:ANd9GcTchD8gqjf8vT30VMWfndK9s6BI1-GOZcDVkLVxs9NPnTE1G82bmMx_QT17a0nlmKovsuDG645u7U16wFX3S6jh_5TZJhyn)\n",
    "\n",
    "![Осло](https://delo.ua/static/content/thumbs/1600x900/c/d8/wjgewp---c16x9x50px50p-c16x9x50px50p--8af73c5cf654c816d60d6544bbc3bd8c.jpg)"
   ]
  },
  {
   "cell_type": "code",
   "execution_count": 32,
   "id": "5d00a264-792c-49ba-b22f-7ba4d2d43823",
   "metadata": {},
   "outputs": [
    {
     "data": {
      "text/html": [
       "<svg xmlns=\"http://www.w3.org/2000/svg\" width=\"300\" height=\"200\" viewBox=\"0 0 22 16\">\n",
       "    <!-- Red Rectangle -->\n",
       "    <rect width=\"22\" height=\"16\" fill=\"#ba0c2f\" />\n",
       "\n",
       "    <!-- White Cross -->\n",
       "    <rect x=\"6.5\" y=\"0\" width=\"3\" height=\"16\" fill=\"#fff\" />\n",
       "    <rect x=\"0\" y=\"6.5\" width=\"22\" height=\"3\" fill=\"#fff\" />\n",
       "\n",
       "    <!-- Blue Cross -->\n",
       "    <rect x=\"7.25\" y=\"0\" width=\"1.5\" height=\"16\" fill=\"#00205b\" />\n",
       "    <rect x=\"0\" y=\"7.25\" width=\"22\" height=\"1.5\" fill=\"#00205b\" />\n",
       "</svg>\n"
      ],
      "text/plain": [
       "<IPython.core.display.HTML object>"
      ]
     },
     "metadata": {},
     "output_type": "display_data"
    }
   ],
   "source": [
    "%%HTML\n",
    "<svg xmlns=\"http://www.w3.org/2000/svg\" width=\"300\" height=\"200\" viewBox=\"0 0 22 16\">\n",
    "    <!-- Red Rectangle -->\n",
    "    <rect width=\"22\" height=\"16\" fill=\"#ba0c2f\" />\n",
    "\n",
    "    <!-- White Cross -->\n",
    "    <rect x=\"6.5\" y=\"0\" width=\"3\" height=\"16\" fill=\"#fff\" />\n",
    "    <rect x=\"0\" y=\"6.5\" width=\"22\" height=\"3\" fill=\"#fff\" />\n",
    "\n",
    "    <!-- Blue Cross -->\n",
    "    <rect x=\"7.25\" y=\"0\" width=\"1.5\" height=\"16\" fill=\"#00205b\" />\n",
    "    <rect x=\"0\" y=\"7.25\" width=\"22\" height=\"1.5\" fill=\"#00205b\" />\n",
    "</svg>\n"
   ]
  },
  {
   "cell_type": "code",
   "execution_count": 1,
   "id": "fbbfe775-3e9a-4b50-9cee-9c277fc1ebc9",
   "metadata": {},
   "outputs": [
    {
     "name": "stdin",
     "output_type": "stream",
     "text": [
      " 67\n"
     ]
    },
    {
     "name": "stdout",
     "output_type": "stream",
     "text": [
      "Число 67 не можна представити квадратами цілих чисел\n"
     ]
    },
    {
     "name": "stdin",
     "output_type": "stream",
     "text": [
      " 25\n"
     ]
    },
    {
     "name": "stdout",
     "output_type": "stream",
     "text": [
      "3^2 + 4^2 = 25\n"
     ]
    }
   ],
   "source": [
    "def find_square_sums(N):\n",
    "    if not N.isdigit():\n",
    "        return f'Введене значення не є числом!'\n",
    "    N = int(N)\n",
    "    for a in range(1, N):\n",
    "        for b in range(a, N):\n",
    "            if a**2 + b**2 == N:\n",
    "                return f'{a}^2 + {b}^2 = {N}'\n",
    "    return f'Число {N} не можна представити квадратами цілих чисел'\n",
    "\n",
    "def task_10():\n",
    "    N = input()\n",
    "    result = find_square_sums(N)\n",
    "    print(result)\n",
    "\n",
    "task_10()  #Приклад 1: 45 (3^2 + 6^2 = 45)\n",
    "task_10()  #Приклад 2: 21 (Число 21 не можна представити квадратами цілих чисел)"
   ]
  },
  {
   "cell_type": "code",
   "execution_count": null,
   "id": "46a8faac-4406-4205-9dc8-2cfa9e96c7e4",
   "metadata": {},
   "outputs": [],
   "source": []
  }
 ],
 "metadata": {
  "kernelspec": {
   "display_name": "Python 3 (ipykernel)",
   "language": "python",
   "name": "python3"
  },
  "language_info": {
   "codemirror_mode": {
    "name": "ipython",
    "version": 3
   },
   "file_extension": ".py",
   "mimetype": "text/x-python",
   "name": "python",
   "nbconvert_exporter": "python",
   "pygments_lexer": "ipython3",
   "version": "3.11.5"
  }
 },
 "nbformat": 4,
 "nbformat_minor": 5
}
